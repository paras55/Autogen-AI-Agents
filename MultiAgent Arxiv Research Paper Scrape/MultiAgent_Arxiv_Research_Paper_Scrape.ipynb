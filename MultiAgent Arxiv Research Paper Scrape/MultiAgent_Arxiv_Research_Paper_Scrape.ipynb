{
  "nbformat": 4,
  "nbformat_minor": 0,
  "metadata": {
    "colab": {
      "provenance": []
    },
    "kernelspec": {
      "name": "python3",
      "display_name": "Python 3"
    },
    "language_info": {
      "name": "python"
    }
  },
  "cells": [
    {
      "cell_type": "code",
      "execution_count": null,
      "metadata": {
        "id": "SggXl9y9i76N"
      },
      "outputs": [],
      "source": [
        "!pip3 install pyautogen"
      ]
    },
    {
      "cell_type": "code",
      "source": [
        "# @title Setting things up\n",
        "\n",
        "import autogen\n",
        "\n",
        "config_list = [\n",
        "    {\n",
        "        \"model\": \"gpt-4\",\n",
        "        \"api_key\": OPENAI_API_KEY,\n",
        "    },\n",
        "]\n"
      ],
      "metadata": {
        "id": "WhhlZETji9Id"
      },
      "execution_count": null,
      "outputs": []
    },
    {
      "cell_type": "code",
      "source": [
        "# @title Constructing Agents\n",
        "\n",
        "gpt4_config = {\n",
        "    \"cache_seed\": 42,  # change the cache_seed for different trials\n",
        "    \"temperature\": 0,\n",
        "    \"config_list\": config_list,\n",
        "    \"timeout\": 120,\n",
        "}\n",
        "user_proxy = autogen.UserProxyAgent(\n",
        "    name=\"Admin\",\n",
        "    system_message=\"A human admin. Interact with the planner to discuss the plan. Plan execution needs to be approved by this admin.\",\n",
        "    code_execution_config=False,\n",
        ")\n",
        "engineer = autogen.AssistantAgent(\n",
        "    name=\"Engineer\",\n",
        "    llm_config=gpt4_config,\n",
        "    system_message=\"\"\"Engineer. You follow an approved plan. You write python/shell code to solve tasks. Wrap the code in a code block that specifies the script type. The user can't modify your code. So do not suggest incomplete code which requires others to modify. Don't use a code block if it's not intended to be executed by the executor.\n",
        "Don't include multiple code blocks in one response. Do not ask others to copy and paste the result. Check the execution result returned by the executor.\n",
        "If the result indicates there is an error, fix the error and output the code again. Suggest the full code instead of partial code or code changes. If the error can't be fixed or if the task is not solved even after the code is executed successfully, analyze the problem, revisit your assumption, collect additional info you need, and think of a different approach to try.\n",
        "\"\"\",\n",
        ")\n",
        "scientist = autogen.AssistantAgent(\n",
        "    name=\"Scientist\",\n",
        "    llm_config=gpt4_config,\n",
        "    system_message=\"\"\"Scientist. You follow an approved plan. You are able to categorize papers after seeing their abstracts printed. You don't write code.\"\"\",\n",
        ")\n",
        "planner = autogen.AssistantAgent(\n",
        "    name=\"Planner\",\n",
        "    system_message=\"\"\"Planner. Suggest a plan. Revise the plan based on feedback from admin and critic, until admin approval.\n",
        "The plan may involve an engineer who can write code and a scientist who doesn't write code.\n",
        "Explain the plan first. Be clear which step is performed by an engineer, and which step is performed by a scientist.\n",
        "\"\"\",\n",
        "    llm_config=gpt4_config,\n",
        ")\n",
        "executor = autogen.UserProxyAgent(\n",
        "    name=\"Executor\",\n",
        "    system_message=\"Executor. Execute the code written by the engineer and report the result.\",\n",
        "    human_input_mode=\"NEVER\",\n",
        "    code_execution_config={\n",
        "        \"last_n_messages\": 3,\n",
        "        \"work_dir\": \"paper\",\n",
        "        \"use_docker\": False,\n",
        "    },  # Please set use_docker=True if docker is available to run the generated code. Using docker is safer than running the generated code directly.\n",
        ")\n",
        "critic = autogen.AssistantAgent(\n",
        "    name=\"Critic\",\n",
        "    system_message=\"Critic. Double check plan, claims, code from other agents and provide feedback. Check whether the plan includes adding verifiable info such as source URL.\",\n",
        "    llm_config=gpt4_config,\n",
        ")\n",
        "groupchat = autogen.GroupChat(\n",
        "    agents=[user_proxy, engineer, scientist, planner, executor, critic], messages=[], max_round=50\n",
        ")\n",
        "manager = autogen.GroupChatManager(groupchat=groupchat, llm_config=gpt4_config)"
      ],
      "metadata": {
        "colab": {
          "base_uri": "https://localhost:8080/",
          "height": 211
        },
        "id": "cnhpG8iVj0cj",
        "outputId": "1c36ab8b-150c-467f-9422-3ff59f9f8ebb"
      },
      "execution_count": 1,
      "outputs": [
        {
          "output_type": "error",
          "ename": "NameError",
          "evalue": "name 'config_list' is not defined",
          "traceback": [
            "\u001b[0;31m---------------------------------------------------------------------------\u001b[0m",
            "\u001b[0;31mNameError\u001b[0m                                 Traceback (most recent call last)",
            "\u001b[0;32m<ipython-input-1-555081a19bab>\u001b[0m in \u001b[0;36m<cell line: 2>\u001b[0;34m()\u001b[0m\n\u001b[1;32m      2\u001b[0m     \u001b[0;34m\"cache_seed\"\u001b[0m\u001b[0;34m:\u001b[0m \u001b[0;36m42\u001b[0m\u001b[0;34m,\u001b[0m  \u001b[0;31m# change the cache_seed for different trials\u001b[0m\u001b[0;34m\u001b[0m\u001b[0;34m\u001b[0m\u001b[0m\n\u001b[1;32m      3\u001b[0m     \u001b[0;34m\"temperature\"\u001b[0m\u001b[0;34m:\u001b[0m \u001b[0;36m0\u001b[0m\u001b[0;34m,\u001b[0m\u001b[0;34m\u001b[0m\u001b[0;34m\u001b[0m\u001b[0m\n\u001b[0;32m----> 4\u001b[0;31m     \u001b[0;34m\"config_list\"\u001b[0m\u001b[0;34m:\u001b[0m \u001b[0mconfig_list\u001b[0m\u001b[0;34m,\u001b[0m\u001b[0;34m\u001b[0m\u001b[0;34m\u001b[0m\u001b[0m\n\u001b[0m\u001b[1;32m      5\u001b[0m     \u001b[0;34m\"timeout\"\u001b[0m\u001b[0;34m:\u001b[0m \u001b[0;36m120\u001b[0m\u001b[0;34m,\u001b[0m\u001b[0;34m\u001b[0m\u001b[0;34m\u001b[0m\u001b[0m\n\u001b[1;32m      6\u001b[0m }\n",
            "\u001b[0;31mNameError\u001b[0m: name 'config_list' is not defined"
          ]
        }
      ]
    },
    {
      "cell_type": "code",
      "source": [
        "# @title Constructing Agents\n",
        "\n",
        "user_proxy.initiate_chat(\n",
        "    manager,\n",
        "    message=\"\"\"\n",
        "find papers on LLM applications from arxiv in the last week, create a markdown table of different domains.\n",
        "\"\"\",\n",
        ")"
      ],
      "metadata": {
        "colab": {
          "base_uri": "https://localhost:8080/",
          "height": 211
        },
        "id": "qLc2o8LLj304",
        "outputId": "af8621ad-73c0-4e41-a18e-fa38f53f3727"
      },
      "execution_count": 2,
      "outputs": [
        {
          "output_type": "error",
          "ename": "NameError",
          "evalue": "name 'user_proxy' is not defined",
          "traceback": [
            "\u001b[0;31m---------------------------------------------------------------------------\u001b[0m",
            "\u001b[0;31mNameError\u001b[0m                                 Traceback (most recent call last)",
            "\u001b[0;32m<ipython-input-2-a34f81f19c57>\u001b[0m in \u001b[0;36m<cell line: 1>\u001b[0;34m()\u001b[0m\n\u001b[0;32m----> 1\u001b[0;31m user_proxy.initiate_chat(\n\u001b[0m\u001b[1;32m      2\u001b[0m     \u001b[0mmanager\u001b[0m\u001b[0;34m,\u001b[0m\u001b[0;34m\u001b[0m\u001b[0;34m\u001b[0m\u001b[0m\n\u001b[1;32m      3\u001b[0m     message=\"\"\"\n\u001b[1;32m      4\u001b[0m \u001b[0mfind\u001b[0m \u001b[0mpapers\u001b[0m \u001b[0mon\u001b[0m \u001b[0mLLM\u001b[0m \u001b[0mapplications\u001b[0m \u001b[0;32mfrom\u001b[0m \u001b[0marxiv\u001b[0m \u001b[0;32min\u001b[0m \u001b[0mthe\u001b[0m \u001b[0mlast\u001b[0m \u001b[0mweek\u001b[0m\u001b[0;34m,\u001b[0m \u001b[0mcreate\u001b[0m \u001b[0ma\u001b[0m \u001b[0mmarkdown\u001b[0m \u001b[0mtable\u001b[0m \u001b[0mof\u001b[0m \u001b[0mdifferent\u001b[0m \u001b[0mdomains\u001b[0m\u001b[0;34m.\u001b[0m\u001b[0;34m\u001b[0m\u001b[0;34m\u001b[0m\u001b[0m\n\u001b[1;32m      5\u001b[0m \"\"\",\n",
            "\u001b[0;31mNameError\u001b[0m: name 'user_proxy' is not defined"
          ]
        }
      ]
    },
    {
      "cell_type": "code",
      "source": [],
      "metadata": {
        "id": "_RhHOviMkBWI"
      },
      "execution_count": 2,
      "outputs": []
    }
  ]
}